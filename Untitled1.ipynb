{
 "cells": [
  {
   "cell_type": "code",
   "execution_count": 45,
   "id": "c516ddc5-f1a7-40c0-855b-74e7c79ca2ab",
   "metadata": {},
   "outputs": [
    {
     "name": "stdout",
     "output_type": "stream",
     "text": [
      "Waktu yang dibutuhkan Erika untuk menabung adalah 8 tahun\n"
     ]
    }
   ],
   "source": [
    "uang_awal = 200000000\n",
    "target    = 400000000\n",
    "bunga = 10/100 \n",
    "\n",
    "tahun_menabung = 0\n",
    "\n",
    "while uang_awal < target :\n",
    "    uang_awal += uang_awal * bunga\n",
    "    tahun_menabung += 1\n",
    "\n",
    "print(f\"Waktu yang dibutuhkan Erika untuk menabung adalah {tahun_menabung} tahun\")"
   ]
  },
  {
   "cell_type": "code",
   "execution_count": null,
   "id": "ea051894-f958-47e3-9d9b-b87ea12b1035",
   "metadata": {},
   "outputs": [],
   "source": []
  },
  {
   "cell_type": "code",
   "execution_count": null,
   "id": "fafe984f-7134-467c-9df7-d1c3768fe9d0",
   "metadata": {},
   "outputs": [],
   "source": []
  }
 ],
 "metadata": {
  "kernelspec": {
   "display_name": "Python [conda env:base] *",
   "language": "python",
   "name": "conda-base-py"
  },
  "language_info": {
   "codemirror_mode": {
    "name": "ipython",
    "version": 3
   },
   "file_extension": ".py",
   "mimetype": "text/x-python",
   "name": "python",
   "nbconvert_exporter": "python",
   "pygments_lexer": "ipython3",
   "version": "3.12.7"
  }
 },
 "nbformat": 4,
 "nbformat_minor": 5
}
