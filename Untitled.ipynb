{
 "cells": [
  {
   "cell_type": "code",
   "execution_count": 7,
   "id": "62d4b3aa-4c32-4888-b7e4-08f5f693899b",
   "metadata": {},
   "outputs": [
    {
     "name": "stdout",
     "output_type": "stream",
     "text": [
      "Keuntungan dalam Rupiah : Rp 875000\n",
      "Keuntungan dalam Persen :  5 %\n",
      "Keuntungan kedua dalam Rupiah: Rp 2075000\n",
      "Keuntungan kedua dalam persen : 8 %\n"
     ]
    }
   ],
   "source": [
    "Harga_awal_pembelian = 650000\n",
    "Jumlah_emas = 25\n",
    "Harga_jual_sekarang = 685000\n",
    "Total_harga_awal = Harga_awal_pembelian * Jumlah_emas\n",
    "Total_harga_sekarang = Harga_jual_sekarang * Jumlah_emas\n",
    "keuntungan = Total_harga_sekarang - Total_harga_awal\n",
    "keuntungann = (keuntungan / Total_harga_awal) * 100\n",
    "print(\"Keuntungan dalam Rupiah : Rp\", keuntungan)\n",
    "print(\"Keuntungan dalam Persen : \", round(keuntungann), \"%\")\n",
    "\n",
    "\n",
    "Tambahan_emas = 15\n",
    "harga_emas_diperbarui = 715000\n",
    "Harga_emas_ditambah = Tambahan_emas * Harga_jual_sekarang\n",
    "total_emas_sekarang = Jumlah_emas + Tambahan_emas\n",
    "total_harga_beli2 = Total_harga_awal + Harga_emas_ditambah\n",
    "harga_jual_terbaru = total_emas_sekarang * harga_emas_diperbarui\n",
    "Keuntungan_2 = harga_jual_terbaru - total_harga_beli2\n",
    "keuntungan_3 = (Keuntungan_2 / total_harga_beli2 ) * 100\n",
    "print(\"Keuntungan kedua dalam Rupiah: Rp\",Keuntungan_2)\n",
    "print(\"Keuntungan kedua dalam persen :\", round(keuntungan_3), \"%\")"
   ]
  },
  {
   "cell_type": "code",
   "execution_count": null,
   "id": "521d8727-1470-4248-9e6d-0180d2a71c9b",
   "metadata": {},
   "outputs": [],
   "source": []
  },
  {
   "cell_type": "code",
   "execution_count": null,
   "id": "0bbcfeba-9260-4b00-a7c5-33a98b38c877",
   "metadata": {},
   "outputs": [],
   "source": []
  },
  {
   "cell_type": "code",
   "execution_count": null,
   "id": "5486f205-e7b8-420c-b2a6-13b3d7efbb7d",
   "metadata": {},
   "outputs": [],
   "source": []
  }
 ],
 "metadata": {
  "kernelspec": {
   "display_name": "Python [conda env:base] *",
   "language": "python",
   "name": "conda-base-py"
  },
  "language_info": {
   "codemirror_mode": {
    "name": "ipython",
    "version": 3
   },
   "file_extension": ".py",
   "mimetype": "text/x-python",
   "name": "python",
   "nbconvert_exporter": "python",
   "pygments_lexer": "ipython3",
   "version": "3.12.7"
  }
 },
 "nbformat": 4,
 "nbformat_minor": 5
}
